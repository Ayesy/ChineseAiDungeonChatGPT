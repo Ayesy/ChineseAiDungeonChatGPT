{
 "cells": [
  {
   "cell_type": "code",
   "execution_count": null,
   "metadata": {
    "collapsed": true
   },
   "outputs": [],
   "source": [
    "!pip3 install revChatGPT --upgrade\n",
    "!git clone https://github.com/bupticybee/ChineseAiDungeonChatGPT.git\n",
    "!cp ChineseAiDungeonChatGPT/story.py ."
   ]
  },
  {
   "cell_type": "code",
   "execution_count": null,
   "outputs": [],
   "source": [
    "from story import StoryTeller\n",
    "\n",
    "config = {\n",
    "        \"Authorization\": \"<API-KEY>\", # This is optional\n",
    "        \"session_token\": \"eyJhbGciOiJkaXIiLCJlbmMiOiJBMjU2R0NNIn0..ihFrJ7qCNxI-YE6t.jH0Hzp5vDmL5s5oCFNmkMxJMaTlVZidZyRh1gynX8-nZaENRCamUofn9B3bhMuMey9sSFQ4vnyp00GQdp7gCBQ7gYc_kZN8JwZPiOYW_vZkl_YFRtJTN7wb8BoHl-EhGtSKegig6fDrMMfFrsXIFelYh53qoQwC87FIUmjierBnpODcoA2ek5YPjfPFtwqTFMi8ukDsoVDnEz9l3gwRhGgQeOQvbYw4GEtNR_x65EhjO8e03Hbh_EJEDnpkWp9Z3JujJsFD5G0F0GJyttkjcsmsaW8hQE7vhO5VRPyTTc0CmUCtNwuef6aRoiIPYpe4mqadlCgy52fAVUlNcnK-drvXlBDP62hOc3Gil_-LzYRB5M_v8TLYSIIphGwbdftaFzB-MWEWIhng0SUDyIwJR4cwy8Owl0VlzOvY6pZwVEe2LVONGY8AxNm3jY8KAP2iXijmvQ29OJRR6Xivhu9Qxub89SopQ7nXHpUCF0-OS9gcQBtNuW1hYjr2dANrx1gukSvB8O28OID4DSi7DR2kpXO6ZPklgEKThwLYUT6C2TnI6V9suYMDyGJ2MkaW8JvCJ4djWt-LEkHMBGv90btkAwfiwD6zU730yRkCsQ2haVH0FtC9Dkf1fCIjnBWBO7jg-jFkzNGHKdVmgBEw5tibavnaJiR9O9MJNzp5SEd57KvD0TkjgT0NMfvJK1TviZPUrn_hRC9sSqk3Bxn8wgnFI3GS-idXZbPAbgCiQu2VLAgVFprdJQVWHpiTJICusakPARDSpLb0RSIT-o3jYfN-upCvDj2N9Xv2UwaZzP-fdgun5n5FPK7_BrX0reF9sUXFdBjUyUGbhixct_g2pW9tOmcJXc8NzsTx-8HfhSE8Mvmy_ZB1qQ6Z16N2JZGbjB4wBIy9PSAJ0Tk3DDYljvrorR8IkiF-nprj2ovNXIazyj49r9TTfk0eXR43OU6UAIbg7GDZct21uSpyoHsPkIf0PEARBt2UgfMUX4hbcw6LxYNhTmwNAXVZSTRLlx92SHx4BBBksk1KgPB_Py9ordqWS2RMYZIzdHbJxboRFMNzG72VKNHh3Va5iZ19CFYLR-Qx7tD7cNMNqstrzmHgt933eqm5o6YZ3HGheJMyAh8TI-7nRYI0Xo6UeCMq3E3g-FaFTqngl-jMyQ2stTtE83pZgCjkBTw3GoyXXd34FXaQLahpSnbcDyBmloY8TLBYzqu1WynzJsSBpG1-_EkNmdXq3z-ZDdCGBSA5bdbEJ8xuoTJ2vD2aOLuVYAPs5i2FDpf-4VM2tyEbT6W5Ljbdmfd88utGZT_L4t-zd9g3VpzaqLFxPa3U1js9597ZAnGpLzaaYtfwLrwsP60mMMXy-h-a8gtLUvYsy6lKTMY2ZSW6c1GrRymkQv_Swbf4r-iZiz6ST-jKnSXVmjueWybc8-u5iHp63QSJ8XYXD1VXWtA5cm38uQW4cVs0USpYWOVIJu6TumsfAL7TycomVnKfVFtxkCwAorh2X3F5lGOnsidchRaxdCwfWudo8b8aa7gL_5Z7_aSjPBXS2ICeCkdWkq1mquxRPnMBtL3ojdfhTueLmJwBkFz39NFQe2dbvSD1C97ScwoHWCH52rQDMyqFfUg_v_XLzW3cTbG9iGDEqz-z8Y1IxA2-3iPo1FL8sZrFaaenffWK3B9RiOHV5t9BBt5ndn-Fr98OecK6-xodgT1AlujdrEHMftSy8TeAQYMEmKXCKNwPKZVYOjMSnRpzzLG1jvOQPXqa0kI1WOnAi-v64PrdZJokrZ1csSKjz2CERBskAcF2vIvM0blv0MOJe27fQlx6ijX4YVoJ4Q5FUFJNmwb9KztCNcXgtbz3e0BI4COHHq3NjBq0Tzl3DSe9fRg3FENyNKIrFfvE3Bw_LkqxKaCHRcpKR2PfyXuGBA8t2UUGUYyNVQqNtfNe5aozNMCfc7derIdIfUqUgEL7Dq4d6iAffU4uCNoQfh4qqH0CptJNSsXQ4D2nVZFLRm9eQ7WBwMgepKnBcgu3pJwUqYvmnroFk-nHEnEGG22pZJFm41dugolRZKAk7Qxt6n-nrovl4rZplHG6yk1qbBbVyQ-lmIPjPoIxkpJhIL39A5dHHerA56FYIoE93M7KTBt6KTTvqRdRbYLeE7oDojvBwXvcgJJm0a4hRyXlWMWgViw.ztKy4CCkupir6tGQdBdtyw\" # This is used to refresh the authentication\n",
    "}\n",
    "\n",
    "story_background = \"你在树林里冒险，指不定会从哪里蹦出来一些奇怪的东西，你握紧手上的手枪，希望这次冒险能够找到一些值钱的东西，你往树林深处走去。\""
   ],
   "metadata": {
    "collapsed": false,
    "pycharm": {
     "name": "#%%\n"
    }
   }
  },
  {
   "cell_type": "code",
   "execution_count": null,
   "outputs": [],
   "source": [
    "story_teller = StoryTeller(config,story_background)\n",
    "story_teller.interactive()"
   ],
   "metadata": {
    "collapsed": false,
    "pycharm": {
     "name": "#%%\n"
    }
   }
  }
 ],
 "metadata": {
  "kernelspec": {
   "display_name": "Python 3",
   "language": "python",
   "name": "python3"
  },
  "language_info": {
   "codemirror_mode": {
    "name": "ipython",
    "version": 2
   },
   "file_extension": ".py",
   "mimetype": "text/x-python",
   "name": "python",
   "nbconvert_exporter": "python",
   "pygments_lexer": "ipython2",
   "version": "2.7.6"
  }
 },
 "nbformat": 4,
 "nbformat_minor": 0
}